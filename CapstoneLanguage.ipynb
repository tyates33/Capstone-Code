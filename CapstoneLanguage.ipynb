{
 "cells": [
  {
   "cell_type": "code",
   "execution_count": 1,
   "metadata": {},
   "outputs": [
    {
     "name": "stdout",
     "output_type": "stream",
     "text": [
      "Collecting lingua-language-detector\n",
      "  Obtaining dependency information for lingua-language-detector from https://files.pythonhosted.org/packages/74/43/15c766f6a1749a3e0b0794e64223f7be4bf209e9d59f7b10bd5a45771be9/lingua_language_detector-2.0.2-cp311-none-win_amd64.whl.metadata\n",
      "  Downloading lingua_language_detector-2.0.2-cp311-none-win_amd64.whl.metadata (353 kB)\n",
      "     ---------------------------------------- 0.0/353.2 kB ? eta -:--:--\n",
      "     ------------------------------------- 353.2/353.2 kB 21.4 MB/s eta 0:00:00\n",
      "Downloading lingua_language_detector-2.0.2-cp311-none-win_amd64.whl (73.3 MB)\n",
      "   ---------------------------------------- 0.0/73.3 MB ? eta -:--:--\n",
      "   - -------------------------------------- 2.4/73.3 MB 50.1 MB/s eta 0:00:02\n",
      "   --- ------------------------------------ 6.6/73.3 MB 69.6 MB/s eta 0:00:01\n",
      "   ---- ----------------------------------- 8.4/73.3 MB 76.8 MB/s eta 0:00:01\n",
      "   ---- ----------------------------------- 9.0/73.3 MB 48.1 MB/s eta 0:00:02\n",
      "   ------- -------------------------------- 13.7/73.3 MB 59.5 MB/s eta 0:00:02\n",
      "   ---------- ----------------------------- 18.6/73.3 MB 59.5 MB/s eta 0:00:01\n",
      "   ------------ --------------------------- 23.2/73.3 MB 93.9 MB/s eta 0:00:01\n",
      "   --------------- ------------------------ 28.0/73.3 MB 93.9 MB/s eta 0:00:01\n",
      "   ----------------- ---------------------- 32.8/73.3 MB 93.0 MB/s eta 0:00:01\n",
      "   -------------------- ------------------- 37.8/73.3 MB 93.0 MB/s eta 0:00:01\n",
      "   ----------------------- ---------------- 42.5/73.3 MB 93.0 MB/s eta 0:00:01\n",
      "   ------------------------- -------------- 47.3/73.3 MB 93.9 MB/s eta 0:00:01\n",
      "   ---------------------------- ----------- 53.0/73.3 MB 131.2 MB/s eta 0:00:01\n",
      "   ------------------------------ --------- 55.6/73.3 MB 93.0 MB/s eta 0:00:01\n",
      "   ------------------------------- -------- 57.7/73.3 MB 93.0 MB/s eta 0:00:01\n",
      "   ------------------------------- -------- 58.3/73.3 MB 54.4 MB/s eta 0:00:01\n",
      "   -------------------------------- ------- 59.8/73.3 MB 59.5 MB/s eta 0:00:01\n",
      "   --------------------------------- ------ 62.1/73.3 MB 40.9 MB/s eta 0:00:01\n",
      "   ------------------------------------ --- 67.7/73.3 MB 50.4 MB/s eta 0:00:01\n",
      "   ---------------------------------------  72.9/73.3 MB 110.0 MB/s eta 0:00:01\n",
      "   ---------------------------------------  73.3/73.3 MB 110.0 MB/s eta 0:00:01\n",
      "   ---------------------------------------  73.3/73.3 MB 110.0 MB/s eta 0:00:01\n",
      "   ---------------------------------------  73.3/73.3 MB 110.0 MB/s eta 0:00:01\n",
      "   ---------------------------------------- 73.3/73.3 MB 40.9 MB/s eta 0:00:00\n",
      "Installing collected packages: lingua-language-detector\n",
      "Successfully installed lingua-language-detector-2.0.2\n"
     ]
    }
   ],
   "source": [
    "#possible package to install\n",
    "\n",
    "#!pip install lingua-language-detector"
   ]
  },
  {
   "cell_type": "code",
   "execution_count": 1,
   "metadata": {},
   "outputs": [
    {
     "data": {
      "text/plain": [
       "Language.ENGLISH"
      ]
     },
     "execution_count": 1,
     "metadata": {},
     "output_type": "execute_result"
    }
   ],
   "source": [
    "from lingua import Language, LanguageDetectorBuilder\n",
    "languages = [Language.ENGLISH, Language.FRENCH, Language.GERMAN, Language.SPANISH, Language.POLISH]\n",
    "detector = LanguageDetectorBuilder.from_all_languages().build()\n",
    "language = detector.detect_language_of(\"languages are awesome\")\n",
    "language"
   ]
  },
  {
   "cell_type": "code",
   "execution_count": 2,
   "metadata": {},
   "outputs": [],
   "source": [
    "import pandas as pd\n",
    "import numpy as np"
   ]
  },
  {
   "cell_type": "code",
   "execution_count": 58,
   "metadata": {},
   "outputs": [],
   "source": [
    "z_df = pd.read_csv(\"C:/Users/Tanner/OneDrive/Documents/School_Work/Capstone/2024-04-24_zig_analytics.csv\")"
   ]
  },
  {
   "cell_type": "code",
   "execution_count": 32,
   "metadata": {},
   "outputs": [],
   "source": [
    "z_df_old = pd.read_csv(\"C:/Users/Tanner/OneDrive/Documents/School_Work/Capstone/zig_analytics.csv\")"
   ]
  },
  {
   "cell_type": "code",
   "execution_count": 72,
   "metadata": {},
   "outputs": [],
   "source": [
    "z_df_oldest = pd.read_csv(\"C:/Users/Tanner/OneDrive/Documents/School_Work/Capstone/2024-03-13_export_zigzag.csv\")"
   ]
  },
  {
   "cell_type": "code",
   "execution_count": 203,
   "metadata": {},
   "outputs": [
    {
     "data": {
      "text/html": [
       "<div>\n",
       "<style scoped>\n",
       "    .dataframe tbody tr th:only-of-type {\n",
       "        vertical-align: middle;\n",
       "    }\n",
       "\n",
       "    .dataframe tbody tr th {\n",
       "        vertical-align: top;\n",
       "    }\n",
       "\n",
       "    .dataframe thead th {\n",
       "        text-align: right;\n",
       "    }\n",
       "</style>\n",
       "<table border=\"1\" class=\"dataframe\">\n",
       "  <thead>\n",
       "    <tr style=\"text-align: right;\">\n",
       "      <th></th>\n",
       "      <th>user_hash</th>\n",
       "      <th>user_created_at</th>\n",
       "      <th>user_last_ip_city</th>\n",
       "      <th>user_last_ip_region</th>\n",
       "      <th>user_last_ip_country_name</th>\n",
       "      <th>user_last_ip_country_region</th>\n",
       "      <th>user_last_ip_country_subregion</th>\n",
       "      <th>user_last_ip_postal_code</th>\n",
       "      <th>idea_id</th>\n",
       "      <th>idea_created_at</th>\n",
       "      <th>...</th>\n",
       "      <th>canvas_early_adopters</th>\n",
       "      <th>canvas_customer_segments</th>\n",
       "      <th>canvas_existing_alternatives</th>\n",
       "      <th>canvas_nr_of_tokens_prompt</th>\n",
       "      <th>canvas_nr_of_tokens_completion</th>\n",
       "      <th>competitor_id</th>\n",
       "      <th>competitors_direct</th>\n",
       "      <th>competitors_indirect</th>\n",
       "      <th>competitors_alternatives</th>\n",
       "      <th>competitor_ways_to_play</th>\n",
       "    </tr>\n",
       "  </thead>\n",
       "  <tbody>\n",
       "    <tr>\n",
       "      <th>0</th>\n",
       "      <td>e58a3f7a52e1acbfbafae5951cfc31b1</td>\n",
       "      <td>2023-09-02 21:46:38</td>\n",
       "      <td>Austin</td>\n",
       "      <td>Texas</td>\n",
       "      <td>United States</td>\n",
       "      <td>Americas</td>\n",
       "      <td>Northern America</td>\n",
       "      <td>78701</td>\n",
       "      <td>12</td>\n",
       "      <td>2023-09-02 21:46:38</td>\n",
       "      <td>...</td>\n",
       "      <td>- Innovative corporate event organizers\\n- Con...</td>\n",
       "      <td>- Corporate event organizers\\n- Concert organi...</td>\n",
       "      <td>- Traditional event entertainers (magicians, m...</td>\n",
       "      <td>781.0</td>\n",
       "      <td>438.0</td>\n",
       "      <td>7.0</td>\n",
       "      <td>- Magic Mirror Events\\n- Faces For Fun\\n- Part...</td>\n",
       "      <td>- Other forms of entertainment like magicians,...</td>\n",
       "      <td>- DIY balloon animal kits\\n- Hiring a craft en...</td>\n",
       "      <td>1. **Offering a complete entertainment package...</td>\n",
       "    </tr>\n",
       "    <tr>\n",
       "      <th>1</th>\n",
       "      <td>e58a3f7a52e1acbfbafae5951cfc31b1</td>\n",
       "      <td>2023-09-02 21:46:38</td>\n",
       "      <td>Austin</td>\n",
       "      <td>Texas</td>\n",
       "      <td>United States</td>\n",
       "      <td>Americas</td>\n",
       "      <td>Northern America</td>\n",
       "      <td>78701</td>\n",
       "      <td>13</td>\n",
       "      <td>2023-09-02 21:52:09</td>\n",
       "      <td>...</td>\n",
       "      <td>- Women who frequently switch handbags\\n- Freq...</td>\n",
       "      <td>- Women of all age groups\\n- Organized individ...</td>\n",
       "      <td>- Organizing manually\\n- Using small pouches i...</td>\n",
       "      <td>666.0</td>\n",
       "      <td>324.0</td>\n",
       "      <td>844.0</td>\n",
       "      <td>- Baggallini\\n- PurseN\\n- Samorga\\n- Divider S...</td>\n",
       "      <td>- Zipper pouches\\n- Makeup Bags\\n- Mini Handba...</td>\n",
       "      <td>- DIY Handbag organizers\\n- Using Ziplock bags...</td>\n",
       "      <td>1. **Customization**\\n- Offering fully customi...</td>\n",
       "    </tr>\n",
       "    <tr>\n",
       "      <th>2</th>\n",
       "      <td>ede3b91a2dadfb94d5f9b88cc0109b71</td>\n",
       "      <td>2023-09-02 23:26:31</td>\n",
       "      <td>Berkeley</td>\n",
       "      <td>California</td>\n",
       "      <td>United States</td>\n",
       "      <td>Americas</td>\n",
       "      <td>Northern America</td>\n",
       "      <td>94703</td>\n",
       "      <td>14</td>\n",
       "      <td>2023-09-02 23:26:31</td>\n",
       "      <td>...</td>\n",
       "      <td>- Mechanical watch enthusiasts who are also te...</td>\n",
       "      <td>- Mechanical watch wearers\\n- Tech-savvy adult...</td>\n",
       "      <td>- Smartwatches\\n- Fitness bands\\n- Mobile apps...</td>\n",
       "      <td>694.0</td>\n",
       "      <td>357.0</td>\n",
       "      <td>1814.0</td>\n",
       "      <td>- Whoop\\n- Fitbit\\n- Garmin\\n- Myzone\\n- Polar...</td>\n",
       "      <td>- Apple Watch\\n- Samsung Galaxy Watch\\n- Xiaom...</td>\n",
       "      <td>- Traditional Fitness Trackers\\n- Use of fitne...</td>\n",
       "      <td>1. **Tailor-Made Workouts**\\n- Developing AI-e...</td>\n",
       "    </tr>\n",
       "    <tr>\n",
       "      <th>3</th>\n",
       "      <td>778cf8f5af962a93757fbfedb3e2fb9e</td>\n",
       "      <td>2023-09-03 01:13:13</td>\n",
       "      <td>Boulder</td>\n",
       "      <td>Colorado</td>\n",
       "      <td>United States</td>\n",
       "      <td>Americas</td>\n",
       "      <td>Northern America</td>\n",
       "      <td>80309</td>\n",
       "      <td>15</td>\n",
       "      <td>2023-09-03 01:13:13</td>\n",
       "      <td>...</td>\n",
       "      <td>- Space hobbyists\\n- Innovative and high-profi...</td>\n",
       "      <td>- Large corporates\\n- Government organizations...</td>\n",
       "      <td>- Billboard advertising\\n- TV and digital adve...</td>\n",
       "      <td>654.0</td>\n",
       "      <td>345.0</td>\n",
       "      <td>1307.0</td>\n",
       "      <td>- Moon Express\\n- Astrobotic Technology\\n- Spa...</td>\n",
       "      <td>- Advertising Balloons\\n- Skywriting Services\\...</td>\n",
       "      <td>- Use of giant screen projectors\\n- Blimps wit...</td>\n",
       "      <td>1. **Innovative Advertising Space**\\n- Capital...</td>\n",
       "    </tr>\n",
       "    <tr>\n",
       "      <th>4</th>\n",
       "      <td>c3eaa4cbf406153f0b893f42675d9730</td>\n",
       "      <td>2023-09-03 02:06:55</td>\n",
       "      <td>Calgary</td>\n",
       "      <td>Alberta</td>\n",
       "      <td>Canada</td>\n",
       "      <td>Americas</td>\n",
       "      <td>Northern America</td>\n",
       "      <td>T3S</td>\n",
       "      <td>16</td>\n",
       "      <td>2023-09-03 02:06:55</td>\n",
       "      <td>...</td>\n",
       "      <td>Large pool of job seekers including but not li...</td>\n",
       "      <td>Job seekers across all industries\\nGraduates l...</td>\n",
       "      <td>Generic resume templates\\nOnline resume builde...</td>\n",
       "      <td>785.0</td>\n",
       "      <td>485.0</td>\n",
       "      <td>9.0</td>\n",
       "      <td>- ResyMatch\\n- Jobscan\\n- Skillsyncer\\n- Resun...</td>\n",
       "      <td>- LinkedIn\\n- Glassdoor\\n- Indeed\\n- Resume Pr...</td>\n",
       "      <td>- Manual Keyword matching\\n- Using free online...</td>\n",
       "      <td>1. **AI Integration**:\\n   - Developing an AI ...</td>\n",
       "    </tr>\n",
       "  </tbody>\n",
       "</table>\n",
       "<p>5 rows × 46 columns</p>\n",
       "</div>"
      ],
      "text/plain": [
       "                          user_hash      user_created_at user_last_ip_city  \\\n",
       "0  e58a3f7a52e1acbfbafae5951cfc31b1  2023-09-02 21:46:38            Austin   \n",
       "1  e58a3f7a52e1acbfbafae5951cfc31b1  2023-09-02 21:46:38            Austin   \n",
       "2  ede3b91a2dadfb94d5f9b88cc0109b71  2023-09-02 23:26:31          Berkeley   \n",
       "3  778cf8f5af962a93757fbfedb3e2fb9e  2023-09-03 01:13:13           Boulder   \n",
       "4  c3eaa4cbf406153f0b893f42675d9730  2023-09-03 02:06:55           Calgary   \n",
       "\n",
       "  user_last_ip_region user_last_ip_country_name user_last_ip_country_region  \\\n",
       "0               Texas             United States                    Americas   \n",
       "1               Texas             United States                    Americas   \n",
       "2          California             United States                    Americas   \n",
       "3            Colorado             United States                    Americas   \n",
       "4             Alberta                    Canada                    Americas   \n",
       "\n",
       "  user_last_ip_country_subregion user_last_ip_postal_code  idea_id  \\\n",
       "0               Northern America                    78701       12   \n",
       "1               Northern America                    78701       13   \n",
       "2               Northern America                    94703       14   \n",
       "3               Northern America                    80309       15   \n",
       "4               Northern America                      T3S       16   \n",
       "\n",
       "       idea_created_at  ...  \\\n",
       "0  2023-09-02 21:46:38  ...   \n",
       "1  2023-09-02 21:52:09  ...   \n",
       "2  2023-09-02 23:26:31  ...   \n",
       "3  2023-09-03 01:13:13  ...   \n",
       "4  2023-09-03 02:06:55  ...   \n",
       "\n",
       "                               canvas_early_adopters  \\\n",
       "0  - Innovative corporate event organizers\\n- Con...   \n",
       "1  - Women who frequently switch handbags\\n- Freq...   \n",
       "2  - Mechanical watch enthusiasts who are also te...   \n",
       "3  - Space hobbyists\\n- Innovative and high-profi...   \n",
       "4  Large pool of job seekers including but not li...   \n",
       "\n",
       "                            canvas_customer_segments  \\\n",
       "0  - Corporate event organizers\\n- Concert organi...   \n",
       "1  - Women of all age groups\\n- Organized individ...   \n",
       "2  - Mechanical watch wearers\\n- Tech-savvy adult...   \n",
       "3  - Large corporates\\n- Government organizations...   \n",
       "4  Job seekers across all industries\\nGraduates l...   \n",
       "\n",
       "                        canvas_existing_alternatives  \\\n",
       "0  - Traditional event entertainers (magicians, m...   \n",
       "1  - Organizing manually\\n- Using small pouches i...   \n",
       "2  - Smartwatches\\n- Fitness bands\\n- Mobile apps...   \n",
       "3  - Billboard advertising\\n- TV and digital adve...   \n",
       "4  Generic resume templates\\nOnline resume builde...   \n",
       "\n",
       "  canvas_nr_of_tokens_prompt  canvas_nr_of_tokens_completion  competitor_id  \\\n",
       "0                      781.0                           438.0            7.0   \n",
       "1                      666.0                           324.0          844.0   \n",
       "2                      694.0                           357.0         1814.0   \n",
       "3                      654.0                           345.0         1307.0   \n",
       "4                      785.0                           485.0            9.0   \n",
       "\n",
       "                                  competitors_direct  \\\n",
       "0  - Magic Mirror Events\\n- Faces For Fun\\n- Part...   \n",
       "1  - Baggallini\\n- PurseN\\n- Samorga\\n- Divider S...   \n",
       "2  - Whoop\\n- Fitbit\\n- Garmin\\n- Myzone\\n- Polar...   \n",
       "3  - Moon Express\\n- Astrobotic Technology\\n- Spa...   \n",
       "4  - ResyMatch\\n- Jobscan\\n- Skillsyncer\\n- Resun...   \n",
       "\n",
       "                                competitors_indirect  \\\n",
       "0  - Other forms of entertainment like magicians,...   \n",
       "1  - Zipper pouches\\n- Makeup Bags\\n- Mini Handba...   \n",
       "2  - Apple Watch\\n- Samsung Galaxy Watch\\n- Xiaom...   \n",
       "3  - Advertising Balloons\\n- Skywriting Services\\...   \n",
       "4  - LinkedIn\\n- Glassdoor\\n- Indeed\\n- Resume Pr...   \n",
       "\n",
       "                            competitors_alternatives  \\\n",
       "0  - DIY balloon animal kits\\n- Hiring a craft en...   \n",
       "1  - DIY Handbag organizers\\n- Using Ziplock bags...   \n",
       "2  - Traditional Fitness Trackers\\n- Use of fitne...   \n",
       "3  - Use of giant screen projectors\\n- Blimps wit...   \n",
       "4  - Manual Keyword matching\\n- Using free online...   \n",
       "\n",
       "                             competitor_ways_to_play  \n",
       "0  1. **Offering a complete entertainment package...  \n",
       "1  1. **Customization**\\n- Offering fully customi...  \n",
       "2  1. **Tailor-Made Workouts**\\n- Developing AI-e...  \n",
       "3  1. **Innovative Advertising Space**\\n- Capital...  \n",
       "4  1. **AI Integration**:\\n   - Developing an AI ...  \n",
       "\n",
       "[5 rows x 46 columns]"
      ]
     },
     "execution_count": 203,
     "metadata": {},
     "output_type": "execute_result"
    }
   ],
   "source": [
    "z_df.head()"
   ]
  },
  {
   "cell_type": "code",
   "execution_count": 5,
   "metadata": {},
   "outputs": [
    {
     "name": "stdout",
     "output_type": "stream",
     "text": [
      "United States            4147\n",
      "Canada                   1061\n",
      "United Kingdom            471\n",
      "France                    305\n",
      "India                     190\n",
      "                         ... \n",
      "Albania                     1\n",
      "Bahrain                     1\n",
      "Guernsey and Alderney       1\n",
      "Somalia                     1\n",
      "Slovenia                    1\n",
      "Name: user_last_ip_country_name, Length: 95, dtype: int64\n"
     ]
    }
   ],
   "source": [
    "print(z_df['user_last_ip_country_name'].value_counts())"
   ]
  },
  {
   "cell_type": "code",
   "execution_count": 24,
   "metadata": {},
   "outputs": [
    {
     "name": "stdout",
     "output_type": "stream",
     "text": [
      "United States            3523\n",
      "Canada                   1048\n",
      "United Kingdom            472\n",
      "France                    262\n",
      "India                     209\n",
      "                         ... \n",
      "Vietnam                     1\n",
      "Benin                       1\n",
      "Guernsey and Alderney       1\n",
      "Saint Lucia                 1\n",
      "Albania                     1\n",
      "Name: user_last_ip_country_name, Length: 88, dtype: int64\n"
     ]
    }
   ],
   "source": [
    "print(z_df_old['user_last_ip_country_name'].value_counts())"
   ]
  },
  {
   "cell_type": "code",
   "execution_count": 51,
   "metadata": {},
   "outputs": [
    {
     "data": {
      "text/plain": [
       "(8502, 46)"
      ]
     },
     "execution_count": 51,
     "metadata": {},
     "output_type": "execute_result"
    }
   ],
   "source": [
    "z_df.shape"
   ]
  },
  {
   "cell_type": "code",
   "execution_count": 33,
   "metadata": {},
   "outputs": [],
   "source": [
    "#drop the rows with no idea description\n",
    "z_df = z_df.dropna(subset=['idea_description'])"
   ]
  },
  {
   "cell_type": "code",
   "execution_count": 54,
   "metadata": {},
   "outputs": [
    {
     "data": {
      "text/plain": [
       "(8428, 46)"
      ]
     },
     "execution_count": 54,
     "metadata": {},
     "output_type": "execute_result"
    }
   ],
   "source": [
    "z_df.shape"
   ]
  },
  {
   "cell_type": "code",
   "execution_count": 53,
   "metadata": {},
   "outputs": [
    {
     "name": "stdout",
     "output_type": "stream",
     "text": [
      "6006\n"
     ]
    }
   ],
   "source": [
    "#count the number of unique user_hash values\n",
    "print(z_df['user_created_at'].nunique())"
   ]
  },
  {
   "cell_type": "code",
   "execution_count": 52,
   "metadata": {},
   "outputs": [],
   "source": [
    "#remove duplicate ideas\n",
    "z_df = z_df.drop_duplicates(subset=['idea_description'])"
   ]
  },
  {
   "cell_type": "code",
   "execution_count": 29,
   "metadata": {},
   "outputs": [
    {
     "data": {
      "text/plain": [
       "e58a3f7a52e1acbfbafae5951cfc31b1    21\n",
       "2e7142ebd7df9f6ad5a55b291baa3e98    15\n",
       "88b4736698317ee60d4cc84d62b3fa79    15\n",
       "537a7eae231ff96786293311eba5e89a    14\n",
       "9889d1633f5fca30a28b9e3403042bb2    13\n",
       "                                    ..\n",
       "f6c7b0c719a5b3ca41260a925d721451     1\n",
       "76d89ba478768af7166a4846de253f47     1\n",
       "b05f73e549e5fd6ddc389aced8cde872     1\n",
       "c809c35850d64a9ece8b9afef54a545a     1\n",
       "0654f94076b3d44949c4bfd6faa106ca     1\n",
       "Name: user_hash, Length: 6091, dtype: int64"
      ]
     },
     "execution_count": 29,
     "metadata": {},
     "output_type": "execute_result"
    }
   ],
   "source": [
    "#count of how many times each user_hash has submitted an idea\n",
    "z_df['user_hash'].value_counts()"
   ]
  },
  {
   "cell_type": "code",
   "execution_count": 66,
   "metadata": {},
   "outputs": [
    {
     "data": {
      "text/plain": [
       "2023-09-02 21:46:38    21\n",
       "2023-09-19 19:00:49    15\n",
       "2024-01-10 19:03:34    14\n",
       "2023-09-21 14:37:08    12\n",
       "2023-12-20 22:50:45    12\n",
       "                       ..\n",
       "2024-01-11 23:40:51     1\n",
       "2024-01-11 23:39:33     1\n",
       "2024-01-11 23:19:15     1\n",
       "2023-09-14 18:52:13     1\n",
       "2024-04-24 13:07:30     1\n",
       "Name: user_created_at, Length: 5592, dtype: int64"
      ]
     },
     "execution_count": 66,
     "metadata": {},
     "output_type": "execute_result"
    }
   ],
   "source": [
    "z_df['user_created_at'].value_counts()"
   ]
  },
  {
   "cell_type": "code",
   "execution_count": 22,
   "metadata": {},
   "outputs": [
    {
     "data": {
      "text/plain": [
       "0        An organizer system that you install in handba...\n",
       "1        A business that does balloon animals for corpo...\n",
       "10359    I'm building a global innovation platform that...\n",
       "10360    sharikat tasnae eilajat lilkilab khaliatan min...\n",
       "10361    A company that makes an app to stop food waste...\n",
       "Name: idea_description, dtype: object"
      ]
     },
     "execution_count": 22,
     "metadata": {},
     "output_type": "execute_result"
    }
   ],
   "source": [
    "d41_df_old = z_df_old[z_df_old['user_created_at'] == '2023-09-02 21:46:38']['idea_description']\n",
    "d41_df_old.head()"
   ]
  },
  {
   "cell_type": "code",
   "execution_count": null,
   "metadata": {},
   "outputs": [],
   "source": [
    "d41_df_old = z_df_old[z_df_old['user_hash'] == '1349d007319149846d87d2d063603d32']['idea_description']\n",
    "d41_df_old.head()"
   ]
  },
  {
   "cell_type": "code",
   "execution_count": 57,
   "metadata": {},
   "outputs": [
    {
     "name": "stdout",
     "output_type": "stream",
     "text": [
      "3489\n"
     ]
    }
   ],
   "source": [
    "#shot the number of user_hash values that appear more than once\n",
    "print(z_df['user_hash'].value_counts().loc[lambda x: x>1].sum())"
   ]
  },
  {
   "cell_type": "code",
   "execution_count": 213,
   "metadata": {},
   "outputs": [
    {
     "data": {
      "text/plain": [
       "93     Idea Miners isn't just another Incubator or id...\n",
       "302    I want to develop a Social Enterprise startup ...\n",
       "304    A mobile app primarily for young people, in co...\n",
       "305    A mobile app primarily for young people, in co...\n",
       "306    We are a provider of Veterinary Practice Manag...\n",
       "Name: idea_description, dtype: object"
      ]
     },
     "execution_count": 213,
     "metadata": {},
     "output_type": "execute_result"
    }
   ],
   "source": [
    "#create a dataframe where the user_has is d41d8cd98f00b204e9800998ecf8427e\n",
    "d41_df = z_df[z_df['user_hash'] == '2e7142ebd7df9f6ad5a55b291baa3e98']['idea_description']\n",
    "d41_df.head()"
   ]
  },
  {
   "cell_type": "code",
   "execution_count": 148,
   "metadata": {},
   "outputs": [],
   "source": []
  },
  {
   "cell_type": "code",
   "execution_count": 105,
   "metadata": {},
   "outputs": [],
   "source": [
    "#drop the rows with no mission\n",
    "z_df = z_df.dropna(subset=['mission'])"
   ]
  },
  {
   "cell_type": "code",
   "execution_count": 59,
   "metadata": {},
   "outputs": [],
   "source": [
    "#drop all idea_descriptions shorter than 7 words\n",
    "z_df = z_df[z_df['idea_description'].str.split().str.len() >5]"
   ]
  },
  {
   "cell_type": "code",
   "execution_count": 60,
   "metadata": {},
   "outputs": [],
   "source": [
    "#dectect the language of the idea description and add it to the dataframe\n",
    "z_df['language'] = z_df['idea_description'].apply(lambda x: detector.detect_language_of(x))\n",
    "z_df['language'] = z_df['language'].apply(lambda x: x.iso_code_639_3.name)"
   ]
  },
  {
   "cell_type": "code",
   "execution_count": 75,
   "metadata": {},
   "outputs": [],
   "source": [
    "#dectect the language of the idea description and add it to the dataframe\n",
    "z_df_oldest['language'] = z_df_oldest['idea_description'].apply(lambda x: detector.detect_language_of(x))\n",
    "z_df_oldest['language'] = z_df_oldest['language'].apply(lambda x: x.iso_code_639_3.name)"
   ]
  },
  {
   "cell_type": "code",
   "execution_count": 73,
   "metadata": {},
   "outputs": [],
   "source": [
    "#drop the rows with no idea description\n",
    "z_df_oldest = z_df_oldest.dropna(subset=['idea_description'])"
   ]
  },
  {
   "cell_type": "code",
   "execution_count": 74,
   "metadata": {},
   "outputs": [],
   "source": [
    "#drop all idea_descriptions shorter than 7 words\n",
    "z_df_oldest = z_df_oldest[z_df_oldest['idea_description'].str.split().str.len() >5]"
   ]
  },
  {
   "cell_type": "code",
   "execution_count": 76,
   "metadata": {},
   "outputs": [
    {
     "data": {
      "text/plain": [
       "ENG    5572\n",
       "FRA      68\n",
       "SPA      21\n",
       "DEU      11\n",
       "ARA       6\n",
       "ITA       5\n",
       "POR       5\n",
       "LAT       3\n",
       "NLD       2\n",
       "HEB       2\n",
       "RUS       2\n",
       "DAN       1\n",
       "ELL       1\n",
       "SWA       1\n",
       "CYM       1\n",
       "TGL       1\n",
       "Name: language, dtype: int64"
      ]
     },
     "execution_count": 76,
     "metadata": {},
     "output_type": "execute_result"
    }
   ],
   "source": [
    "z_df_oldest['language'].value_counts()"
   ]
  },
  {
   "cell_type": "code",
   "execution_count": 61,
   "metadata": {},
   "outputs": [
    {
     "data": {
      "text/plain": [
       "ENG    7583\n",
       "SPA     107\n",
       "FRA     107\n",
       "DEU      21\n",
       "POR      19\n",
       "ITA       7\n",
       "RUS       5\n",
       "ARA       5\n",
       "NLD       5\n",
       "TGL       5\n",
       "LAT       3\n",
       "CAT       2\n",
       "KOR       2\n",
       "ELL       1\n",
       "MKD       1\n",
       "EPO       1\n",
       "HEB       1\n",
       "DAN       1\n",
       "SWA       1\n",
       "CYM       1\n",
       "SWE       1\n",
       "BUL       1\n",
       "Name: language, dtype: int64"
      ]
     },
     "execution_count": 61,
     "metadata": {},
     "output_type": "execute_result"
    }
   ],
   "source": [
    "z_df['language'].value_counts()"
   ]
  },
  {
   "cell_type": "code",
   "execution_count": 62,
   "metadata": {},
   "outputs": [],
   "source": [
    "z_df.to_csv(\"C:/Users/Tanner/OneDrive/Documents/School_Work/Capstone/2024-04-24_zig_analytics_lang.csv\", index=False)"
   ]
  },
  {
   "cell_type": "code",
   "execution_count": 77,
   "metadata": {},
   "outputs": [
    {
     "data": {
      "text/plain": [
       "3434    tamagochi-like virtual pet app with tasklist o...\n",
       "4864    een restaurant in de buurt van fitnesscentra, ...\n",
       "4876          Map the business model canvas of FotMob\\r\\n\n",
       "6926    a pork souvlaki food truck in center of amsterdam\n",
       "7670     Luxemburg  Digital Twin Project on the Metaverse\n",
       "Name: idea_description, dtype: object"
      ]
     },
     "execution_count": 77,
     "metadata": {},
     "output_type": "execute_result"
    },
    {
     "ename": "",
     "evalue": "",
     "output_type": "error",
     "traceback": [
      "\u001b[1;31mThe Kernel crashed while executing code in the current cell or a previous cell. \n",
      "\u001b[1;31mPlease review the code in the cell(s) to identify a possible cause of the failure. \n",
      "\u001b[1;31mClick <a href='https://aka.ms/vscodeJupyterKernelCrash'>here</a> for more info. \n",
      "\u001b[1;31mView Jupyter <a href='command:jupyter.viewOutput'>log</a> for further details."
     ]
    }
   ],
   "source": [
    "# show a head of all the rows with italian language\n",
    "z_df[z_df['language'] == \"NLD\"]['idea_description'].head()"
   ]
  },
  {
   "cell_type": "code",
   "execution_count": 109,
   "metadata": {},
   "outputs": [
    {
     "data": {
      "text/plain": [
       "Language.FRENCH"
      ]
     },
     "execution_count": 109,
     "metadata": {},
     "output_type": "execute_result"
    }
   ],
   "source": [
    "#show a head of all the rows with french language\n",
    "french = z_df['language'][158]\n",
    "french"
   ]
  },
  {
   "cell_type": "code",
   "execution_count": 67,
   "metadata": {},
   "outputs": [
    {
     "data": {
      "text/plain": [
       "'how is go zigzag different from ChatGPT ?'"
      ]
     },
     "execution_count": 67,
     "metadata": {},
     "output_type": "execute_result"
    }
   ],
   "source": [
    "#show row 6632 head\n",
    "z_df['idea_description'][6632]"
   ]
  },
  {
   "cell_type": "code",
   "execution_count": 63,
   "metadata": {},
   "outputs": [],
   "source": [
    "z_df_graph = z_df[['idea_created_at', 'language']]"
   ]
  },
  {
   "cell_type": "code",
   "execution_count": 65,
   "metadata": {},
   "outputs": [],
   "source": [
    "z_df_graph.to_csv(\"C:/Users/Tanner/OneDrive/Documents/School_Work/Capstone/2024-04-24_zig_analytics_lang2.csv\", index=False)"
   ]
  },
  {
   "cell_type": "code",
   "execution_count": 221,
   "metadata": {},
   "outputs": [
    {
     "name": "stderr",
     "output_type": "stream",
     "text": [
      "C:\\Users\\Tanner\\AppData\\Local\\Temp\\ipykernel_8756\\280429383.py:2: SettingWithCopyWarning: \n",
      "A value is trying to be set on a copy of a slice from a DataFrame.\n",
      "Try using .loc[row_indexer,col_indexer] = value instead\n",
      "\n",
      "See the caveats in the documentation: https://pandas.pydata.org/pandas-docs/stable/user_guide/indexing.html#returning-a-view-versus-a-copy\n",
      "  z_df['word_count'] = z_df['idea_description'].str.split().str.len()\n"
     ]
    }
   ],
   "source": [
    "#add a column to count the number of words in the idea description\n",
    "z_df['word_count'] = z_df['idea_description'].str.split().str.len()\n",
    "\n"
   ]
  },
  {
   "cell_type": "code",
   "execution_count": 111,
   "metadata": {},
   "outputs": [
    {
     "data": {
      "text/html": [
       "<div>\n",
       "<style scoped>\n",
       "    .dataframe tbody tr th:only-of-type {\n",
       "        vertical-align: middle;\n",
       "    }\n",
       "\n",
       "    .dataframe tbody tr th {\n",
       "        vertical-align: top;\n",
       "    }\n",
       "\n",
       "    .dataframe thead th {\n",
       "        text-align: right;\n",
       "    }\n",
       "</style>\n",
       "<table border=\"1\" class=\"dataframe\">\n",
       "  <thead>\n",
       "    <tr style=\"text-align: right;\">\n",
       "      <th></th>\n",
       "      <th>user_hash</th>\n",
       "      <th>user_created_at</th>\n",
       "      <th>user_last_ip_city</th>\n",
       "      <th>user_last_ip_region</th>\n",
       "      <th>user_last_ip_country_name</th>\n",
       "      <th>user_last_ip_country_region</th>\n",
       "      <th>user_last_ip_country_subregion</th>\n",
       "      <th>user_last_ip_postal_code</th>\n",
       "      <th>idea_id</th>\n",
       "      <th>idea_created_at</th>\n",
       "      <th>...</th>\n",
       "      <th>canvas_existing_alternatives</th>\n",
       "      <th>canvas_nr_of_tokens_prompt</th>\n",
       "      <th>canvas_nr_of_tokens_completion</th>\n",
       "      <th>competitor_id</th>\n",
       "      <th>competitors_direct</th>\n",
       "      <th>competitors_indirect</th>\n",
       "      <th>competitors_alternatives</th>\n",
       "      <th>competitor_ways_to_play</th>\n",
       "      <th>language</th>\n",
       "      <th>word_count</th>\n",
       "    </tr>\n",
       "  </thead>\n",
       "  <tbody>\n",
       "    <tr>\n",
       "      <th>0</th>\n",
       "      <td>1349d007319149846d87d2d063603d32</td>\n",
       "      <td>2023-09-02 21:46:38</td>\n",
       "      <td>Austin</td>\n",
       "      <td>Texas</td>\n",
       "      <td>United States</td>\n",
       "      <td>Americas</td>\n",
       "      <td>Northern America</td>\n",
       "      <td>78701</td>\n",
       "      <td>13.0</td>\n",
       "      <td>2023-09-02 21:52:09</td>\n",
       "      <td>...</td>\n",
       "      <td>- Organizing manually\\n- Using small pouches i...</td>\n",
       "      <td>666.0</td>\n",
       "      <td>324.0</td>\n",
       "      <td>844.0</td>\n",
       "      <td>- Baggallini\\n- PurseN\\n- Samorga\\n- Divider S...</td>\n",
       "      <td>- Zipper pouches\\n- Makeup Bags\\n- Mini Handba...</td>\n",
       "      <td>- DIY Handbag organizers\\n- Using Ziplock bags...</td>\n",
       "      <td>1. **Customization**\\n- Offering fully customi...</td>\n",
       "      <td>Language.ENGLISH</td>\n",
       "      <td>17</td>\n",
       "    </tr>\n",
       "    <tr>\n",
       "      <th>1</th>\n",
       "      <td>1349d007319149846d87d2d063603d32</td>\n",
       "      <td>2023-09-02 21:46:38</td>\n",
       "      <td>Austin</td>\n",
       "      <td>Texas</td>\n",
       "      <td>United States</td>\n",
       "      <td>Americas</td>\n",
       "      <td>Northern America</td>\n",
       "      <td>78701</td>\n",
       "      <td>12.0</td>\n",
       "      <td>2023-09-02 21:46:38</td>\n",
       "      <td>...</td>\n",
       "      <td>- Traditional event entertainers (magicians, m...</td>\n",
       "      <td>781.0</td>\n",
       "      <td>438.0</td>\n",
       "      <td>7.0</td>\n",
       "      <td>- Magic Mirror Events\\n- Faces For Fun\\n- Part...</td>\n",
       "      <td>- Other forms of entertainment like magicians,...</td>\n",
       "      <td>- DIY balloon animal kits\\n- Hiring a craft en...</td>\n",
       "      <td>1. **Offering a complete entertainment package...</td>\n",
       "      <td>Language.ENGLISH</td>\n",
       "      <td>11</td>\n",
       "    </tr>\n",
       "    <tr>\n",
       "      <th>2</th>\n",
       "      <td>6099d2a15b1531f037557ff2c46ec6bc</td>\n",
       "      <td>2023-09-02 23:26:31</td>\n",
       "      <td>Berkeley</td>\n",
       "      <td>California</td>\n",
       "      <td>United States</td>\n",
       "      <td>Americas</td>\n",
       "      <td>Northern America</td>\n",
       "      <td>94703</td>\n",
       "      <td>14.0</td>\n",
       "      <td>2023-09-02 23:26:31</td>\n",
       "      <td>...</td>\n",
       "      <td>- Smartwatches\\n- Fitness bands\\n- Mobile apps...</td>\n",
       "      <td>694.0</td>\n",
       "      <td>357.0</td>\n",
       "      <td>1814.0</td>\n",
       "      <td>- Whoop\\n- Fitbit\\n- Garmin\\n- Myzone\\n- Polar...</td>\n",
       "      <td>- Apple Watch\\n- Samsung Galaxy Watch\\n- Xiaom...</td>\n",
       "      <td>- Traditional Fitness Trackers\\n- Use of fitne...</td>\n",
       "      <td>1. **Tailor-Made Workouts**\\n- Developing AI-e...</td>\n",
       "      <td>Language.ENGLISH</td>\n",
       "      <td>30</td>\n",
       "    </tr>\n",
       "    <tr>\n",
       "      <th>3</th>\n",
       "      <td>2a4d349793b9fbe70d0c1d60fae0105e</td>\n",
       "      <td>2023-09-03 01:13:13</td>\n",
       "      <td>Boulder</td>\n",
       "      <td>Colorado</td>\n",
       "      <td>United States</td>\n",
       "      <td>Americas</td>\n",
       "      <td>Northern America</td>\n",
       "      <td>80309</td>\n",
       "      <td>15.0</td>\n",
       "      <td>2023-09-03 01:13:13</td>\n",
       "      <td>...</td>\n",
       "      <td>- Billboard advertising\\n- TV and digital adve...</td>\n",
       "      <td>654.0</td>\n",
       "      <td>345.0</td>\n",
       "      <td>1307.0</td>\n",
       "      <td>- Moon Express\\n- Astrobotic Technology\\n- Spa...</td>\n",
       "      <td>- Advertising Balloons\\n- Skywriting Services\\...</td>\n",
       "      <td>- Use of giant screen projectors\\n- Blimps wit...</td>\n",
       "      <td>1. **Innovative Advertising Space**\\n- Capital...</td>\n",
       "      <td>Language.ENGLISH</td>\n",
       "      <td>12</td>\n",
       "    </tr>\n",
       "    <tr>\n",
       "      <th>4</th>\n",
       "      <td>ee69e06671dc597321182d604107b1a6</td>\n",
       "      <td>2023-09-03 02:06:55</td>\n",
       "      <td>Calgary</td>\n",
       "      <td>Alberta</td>\n",
       "      <td>Canada</td>\n",
       "      <td>Americas</td>\n",
       "      <td>Northern America</td>\n",
       "      <td>T3S</td>\n",
       "      <td>16.0</td>\n",
       "      <td>2023-09-03 02:06:55</td>\n",
       "      <td>...</td>\n",
       "      <td>Generic resume templates\\nOnline resume builde...</td>\n",
       "      <td>785.0</td>\n",
       "      <td>485.0</td>\n",
       "      <td>9.0</td>\n",
       "      <td>- ResyMatch\\n- Jobscan\\n- Skillsyncer\\n- Resun...</td>\n",
       "      <td>- LinkedIn\\n- Glassdoor\\n- Indeed\\n- Resume Pr...</td>\n",
       "      <td>- Manual Keyword matching\\n- Using free online...</td>\n",
       "      <td>1. **AI Integration**:\\n   - Developing an AI ...</td>\n",
       "      <td>Language.ENGLISH</td>\n",
       "      <td>11</td>\n",
       "    </tr>\n",
       "  </tbody>\n",
       "</table>\n",
       "<p>5 rows × 48 columns</p>\n",
       "</div>"
      ],
      "text/plain": [
       "                          user_hash      user_created_at user_last_ip_city  \\\n",
       "0  1349d007319149846d87d2d063603d32  2023-09-02 21:46:38            Austin   \n",
       "1  1349d007319149846d87d2d063603d32  2023-09-02 21:46:38            Austin   \n",
       "2  6099d2a15b1531f037557ff2c46ec6bc  2023-09-02 23:26:31          Berkeley   \n",
       "3  2a4d349793b9fbe70d0c1d60fae0105e  2023-09-03 01:13:13           Boulder   \n",
       "4  ee69e06671dc597321182d604107b1a6  2023-09-03 02:06:55           Calgary   \n",
       "\n",
       "  user_last_ip_region user_last_ip_country_name user_last_ip_country_region  \\\n",
       "0               Texas             United States                    Americas   \n",
       "1               Texas             United States                    Americas   \n",
       "2          California             United States                    Americas   \n",
       "3            Colorado             United States                    Americas   \n",
       "4             Alberta                    Canada                    Americas   \n",
       "\n",
       "  user_last_ip_country_subregion user_last_ip_postal_code  idea_id  \\\n",
       "0               Northern America                    78701     13.0   \n",
       "1               Northern America                    78701     12.0   \n",
       "2               Northern America                    94703     14.0   \n",
       "3               Northern America                    80309     15.0   \n",
       "4               Northern America                      T3S     16.0   \n",
       "\n",
       "       idea_created_at  ...  \\\n",
       "0  2023-09-02 21:52:09  ...   \n",
       "1  2023-09-02 21:46:38  ...   \n",
       "2  2023-09-02 23:26:31  ...   \n",
       "3  2023-09-03 01:13:13  ...   \n",
       "4  2023-09-03 02:06:55  ...   \n",
       "\n",
       "                        canvas_existing_alternatives  \\\n",
       "0  - Organizing manually\\n- Using small pouches i...   \n",
       "1  - Traditional event entertainers (magicians, m...   \n",
       "2  - Smartwatches\\n- Fitness bands\\n- Mobile apps...   \n",
       "3  - Billboard advertising\\n- TV and digital adve...   \n",
       "4  Generic resume templates\\nOnline resume builde...   \n",
       "\n",
       "  canvas_nr_of_tokens_prompt  canvas_nr_of_tokens_completion competitor_id  \\\n",
       "0                      666.0                           324.0         844.0   \n",
       "1                      781.0                           438.0           7.0   \n",
       "2                      694.0                           357.0        1814.0   \n",
       "3                      654.0                           345.0        1307.0   \n",
       "4                      785.0                           485.0           9.0   \n",
       "\n",
       "                                  competitors_direct  \\\n",
       "0  - Baggallini\\n- PurseN\\n- Samorga\\n- Divider S...   \n",
       "1  - Magic Mirror Events\\n- Faces For Fun\\n- Part...   \n",
       "2  - Whoop\\n- Fitbit\\n- Garmin\\n- Myzone\\n- Polar...   \n",
       "3  - Moon Express\\n- Astrobotic Technology\\n- Spa...   \n",
       "4  - ResyMatch\\n- Jobscan\\n- Skillsyncer\\n- Resun...   \n",
       "\n",
       "                                competitors_indirect  \\\n",
       "0  - Zipper pouches\\n- Makeup Bags\\n- Mini Handba...   \n",
       "1  - Other forms of entertainment like magicians,...   \n",
       "2  - Apple Watch\\n- Samsung Galaxy Watch\\n- Xiaom...   \n",
       "3  - Advertising Balloons\\n- Skywriting Services\\...   \n",
       "4  - LinkedIn\\n- Glassdoor\\n- Indeed\\n- Resume Pr...   \n",
       "\n",
       "                            competitors_alternatives  \\\n",
       "0  - DIY Handbag organizers\\n- Using Ziplock bags...   \n",
       "1  - DIY balloon animal kits\\n- Hiring a craft en...   \n",
       "2  - Traditional Fitness Trackers\\n- Use of fitne...   \n",
       "3  - Use of giant screen projectors\\n- Blimps wit...   \n",
       "4  - Manual Keyword matching\\n- Using free online...   \n",
       "\n",
       "                             competitor_ways_to_play          language  \\\n",
       "0  1. **Customization**\\n- Offering fully customi...  Language.ENGLISH   \n",
       "1  1. **Offering a complete entertainment package...  Language.ENGLISH   \n",
       "2  1. **Tailor-Made Workouts**\\n- Developing AI-e...  Language.ENGLISH   \n",
       "3  1. **Innovative Advertising Space**\\n- Capital...  Language.ENGLISH   \n",
       "4  1. **AI Integration**:\\n   - Developing an AI ...  Language.ENGLISH   \n",
       "\n",
       "  word_count  \n",
       "0         17  \n",
       "1         11  \n",
       "2         30  \n",
       "3         12  \n",
       "4         11  \n",
       "\n",
       "[5 rows x 48 columns]"
      ]
     },
     "execution_count": 111,
     "metadata": {},
     "output_type": "execute_result"
    }
   ],
   "source": [
    "z_df.head()"
   ]
  },
  {
   "cell_type": "code",
   "execution_count": 112,
   "metadata": {},
   "outputs": [
    {
     "data": {
      "text/plain": [
       "11      170\n",
       "19      165\n",
       "9       162\n",
       "14      159\n",
       "15      151\n",
       "       ... \n",
       "869       1\n",
       "1468      1\n",
       "200       1\n",
       "271       1\n",
       "430       1\n",
       "Name: word_count, Length: 404, dtype: int64"
      ]
     },
     "execution_count": 112,
     "metadata": {},
     "output_type": "execute_result"
    }
   ],
   "source": [
    "z_df['word_count'].value_counts()"
   ]
  },
  {
   "cell_type": "code",
   "execution_count": 119,
   "metadata": {},
   "outputs": [
    {
     "data": {
      "text/plain": [
       "9.0    162\n",
       "7.0    146\n",
       "8.0    144\n",
       "6.0    141\n",
       "4.0    130\n",
       "5.0    129\n",
       "3.0     94\n",
       "2.0     88\n",
       "1.0     36\n",
       "Name: word_count, dtype: int64"
      ]
     },
     "execution_count": 119,
     "metadata": {},
     "output_type": "execute_result"
    }
   ],
   "source": [
    "#show the value counts of the word counts under 10\n",
    "z_df['word_count'][z_df['word_count'] < 10].value_counts()"
   ]
  },
  {
   "cell_type": "code",
   "execution_count": 127,
   "metadata": {},
   "outputs": [
    {
     "data": {
      "text/plain": [
       "66.0"
      ]
     },
     "execution_count": 127,
     "metadata": {},
     "output_type": "execute_result"
    }
   ],
   "source": [
    "#show the idea with the most number of updates\n",
    "z_df['nr_of_times_updated'].max()\n",
    "#get the idea"
   ]
  }
 ],
 "metadata": {
  "kernelspec": {
   "display_name": "base",
   "language": "python",
   "name": "python3"
  },
  "language_info": {
   "codemirror_mode": {
    "name": "ipython",
    "version": 3
   },
   "file_extension": ".py",
   "mimetype": "text/x-python",
   "name": "python",
   "nbconvert_exporter": "python",
   "pygments_lexer": "ipython3",
   "version": "3.11.4"
  }
 },
 "nbformat": 4,
 "nbformat_minor": 2
}
